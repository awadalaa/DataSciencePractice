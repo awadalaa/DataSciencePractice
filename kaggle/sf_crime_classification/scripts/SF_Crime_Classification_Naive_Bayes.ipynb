{
 "cells": [
  {
   "cell_type": "code",
   "execution_count": 1,
   "metadata": {
    "collapsed": false
   },
   "outputs": [
    {
     "name": "stderr",
     "output_type": "stream",
     "text": [
      "//anaconda/lib/python2.7/site-packages/matplotlib/font_manager.py:273: UserWarning: Matplotlib is building the font cache using fc-list. This may take a moment.\n",
      "  warnings.warn('Matplotlib is building the font cache using fc-list. This may take a moment.')\n"
     ]
    }
   ],
   "source": [
    "from types import NoneType\n",
    "import pandas as pd\n",
    "from sklearn import preprocessing\n",
    "from sklearn.naive_bayes import BernoulliNB\n",
    "import matplotlib.pyplot as plt\n",
    "import gzip\n",
    "\n",
    "%matplotlib inline "
   ]
  },
  {
   "cell_type": "code",
   "execution_count": 2,
   "metadata": {
    "collapsed": true
   },
   "outputs": [],
   "source": [
    "YEARS = [x for x in range(2003, 2016)]\n",
    "MONTHS = [x for x in range(-1, -13, -1)]\n",
    "HOURS = [x for x in range(0, 24)]\n",
    "DAYS_OF_WEEK = ['Monday', 'Tuesday', 'Wednesday', 'Thursday', 'Friday', 'Saturday', 'Sunday']\n",
    "PD_DISTRICT = ['BAYVIEW', 'CENTRAL', 'INGLESIDE', 'MISSION', 'NORTHERN', 'PARK', 'RICHMOND', 'SOUTHERN', 'TARAVAL', 'TENDERLOIN']\n",
    "NX = 1000\n",
    "NY = 1000\n",
    "COORDS = ['B'+str(x) for x in range(0, NX*NY)]"
   ]
  },
  {
   "cell_type": "code",
   "execution_count": 3,
   "metadata": {
    "collapsed": true
   },
   "outputs": [],
   "source": [
    "\n",
    "def convert_data(data, limits):\n",
    "    # Convert categorical variables (yeras, months, hours, weekdays, and districts) to binarized arrays\n",
    "    year = data.Dates.dt.year\n",
    "    year = pd.get_dummies(year)\n",
    "    month = -data.Dates.dt.month\n",
    "    month = pd.get_dummies(month)\n",
    "    hour = data.Dates.dt.hour\n",
    "    hour = pd.get_dummies(hour)\n",
    "    day = pd.get_dummies(data.DayOfWeek)\n",
    "    district = pd.get_dummies(data.PdDistrict)\n",
    "    coord = get_coordinates_variable(data, limits)\n",
    "    coord = pd.get_dummies(coord)\n",
    "    return pd.concat([year, month, hour, day, district, coord], axis=1)\n",
    "\n",
    "def get_coordinates_variable(data, limits):\n",
    "    coordinates = [None] * len(data.X)\n",
    "    x_min = limits[0]\n",
    "    x_max = limits[1]\n",
    "    x_step = (x_max - x_min) / NX\n",
    "    y_min = limits[2]\n",
    "    y_max = limits[3]\n",
    "    y_step = (y_max - y_min) / NY\n",
    "    for i in range(0, len(data.X)):\n",
    "        x = data.X[i]\n",
    "        y = data.Y[i]\n",
    "        xn = (x - x_min) / x_step\n",
    "        yn = (y - y_min) / y_step\n",
    "        coordinates[i] = 'B' +  str(int(xn) + max(0, (int(yn) - 1)) * NX)\n",
    "    return coordinates\n",
    "\n",
    "def compute_coordinates_limits(train, test):\n",
    "    return min(min(train.X), min(test.X)),\\\n",
    "           max(max(train.X), max(test.X)),\\\n",
    "           min(min(train.Y), min(test.Y)),\\\n",
    "           max(max(train.Y), max(test.Y))\n"
   ]
  },
  {
   "cell_type": "code",
   "execution_count": 5,
   "metadata": {
    "collapsed": false
   },
   "outputs": [],
   "source": [
    "# Load data\n",
    "train = pd.read_csv(gzip.open('../input/train.csv.gz'), parse_dates=['Dates'])\n",
    "test = pd.read_csv(gzip.open('../input/test.csv.gz'), parse_dates=['Dates'])\n"
   ]
  },
  {
   "cell_type": "code",
   "execution_count": 6,
   "metadata": {
    "collapsed": true
   },
   "outputs": [],
   "source": [
    "# Convert crime labels to numerical labels\n",
    "crime_label_encoder = preprocessing.LabelEncoder()\n",
    "crime_label = crime_label_encoder.fit_transform(train.Category)\n",
    "\n",
    "# Compute coordinates limits\n",
    "coord_limits = compute_coordinates_limits(train, test)\n",
    "\n",
    "# Build train data\n",
    "train_data = convert_data(train, coord_limits)\n",
    "train_data['crime'] = crime_label\n",
    "\n",
    "# Build test data\n",
    "test_data = convert_data(test, coord_limits)\n",
    "\n",
    "#Classification model based on year, month, time, day and district\n",
    "COORDS = [x for x in COORDS if train_data.keys().__contains__(x) and test_data.keys().__contains__(x)]\n",
    "features = YEARS + MONTHS + HOURS + DAYS_OF_WEEK + PD_DISTRICT + COORDS"
   ]
  },
  {
   "cell_type": "code",
   "execution_count": 7,
   "metadata": {
    "collapsed": true
   },
   "outputs": [],
   "source": [
    "model = BernoulliNB()\n",
    "model.fit(train_data[features], train_data['crime'])\n",
    "predicted = model.predict_proba(test_data[features])\n",
    "\n",
    "result = pd.DataFrame(predicted, columns=crime_label_encoder.classes_)\n",
    "result.to_csv('kaggle_bernoulli.csv', index=True, index_label='Id')"
   ]
  },
  {
   "cell_type": "code",
   "execution_count": null,
   "metadata": {
    "collapsed": true
   },
   "outputs": [],
   "source": []
  }
 ],
 "metadata": {
  "kernelspec": {
   "display_name": "Python 2",
   "language": "python",
   "name": "python2"
  },
  "language_info": {
   "codemirror_mode": {
    "name": "ipython",
    "version": 2
   },
   "file_extension": ".py",
   "mimetype": "text/x-python",
   "name": "python",
   "nbconvert_exporter": "python",
   "pygments_lexer": "ipython2",
   "version": "2.7.11"
  }
 },
 "nbformat": 4,
 "nbformat_minor": 0
}

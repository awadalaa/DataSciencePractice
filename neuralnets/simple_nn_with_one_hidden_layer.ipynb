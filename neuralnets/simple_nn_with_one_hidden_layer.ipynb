{
 "metadata": {
  "name": "",
  "signature": "sha256:07fc1b7d2c52cc52a3099c2506e436fd0aed471fff724afec75910a28f084fda"
 },
 "nbformat": 3,
 "nbformat_minor": 0,
 "worksheets": [
  {
   "cells": [
    {
     "cell_type": "markdown",
     "metadata": {},
     "source": [
      "### Neural Nets - lets make one\n",
      "Try to predict score on a test given hours of sleep and hours of study"
     ]
    },
    {
     "cell_type": "code",
     "collapsed": false,
     "input": [
      "import numpy as np\n",
      "class Neural_Network(object):\n",
      "    def __init__(self):\n",
      "        #Define Hyperparametrs\n",
      "        self.inputLayerSize = 2\n",
      "        self.outputLayerSize = 1\n",
      "        self.hiddenLayerSize = 3\n",
      "        \n",
      "        #Weights (parameters)\n",
      "        self.W1 = np.random.randn(self.inputLayerSize, \\\n",
      "                                  self.hiddenLayerSize)\n",
      "        self.W2 = np.random.randn(self.hiddenLayerSize, \\\n",
      "                                  self.outputLayerSize)\n",
      "\n",
      "    def forward(self, X):\n",
      "        #propogate inputs through the network\n",
      "        self.z2 = np.dot(X,self.W1)\n",
      "        self.a2 = self.sigmoid(self.z2)\n",
      "        self.z3 = np.dot(self.a2,self.W2)\n",
      "        y_hat = self.sigmoid(self.z3)\n",
      "        return y_hat\n",
      "        \n",
      "    def sigmoid(self, z):\n",
      "        return 1./(1+np.exp(-z))\n",
      "    \n",
      "    def sigmoidPrime(self, z):\n",
      "        return self.sigmoid(z) * (1 - self.sigmoid(z))\n",
      "\n",
      "    def costFunction(self, X, y):\n",
      "        self.yHat = self.forward(X)\n",
      "        J = 0.5 * sum((y - self.yHat)**2)\n",
      "        return J\n",
      "    \n",
      "    def costFunctionPrime(self, X, y):\n",
      "        self.yHat = self.forward(X)\n",
      "        delta3 = np.multiply(-(y - self.yHat), self.sigmoidPrime(self.z3))\n",
      "        dJdW2  = np.dot(self.a2.T, delta3)\n",
      "        \n",
      "        delta2 = np.dot(delta3, self.W2.T) * self.sigmoidPrime(self.z2)\n",
      "        dJdW1 = np.dot(X.T, delta2)\n",
      "        \n",
      "        return dJdW1, dJdW2\n",
      "    \n",
      "    #Helper Functions for interacting with other classes:\n",
      "    def getParams(self):\n",
      "        #Get W1 and W2 unrolled into vector:\n",
      "        params = np.concatenate((self.W1.ravel(), self.W2.ravel()))\n",
      "        return params\n",
      "    \n",
      "    def setParams(self, params):\n",
      "        #Set W1 and W2 using single paramater vector.\n",
      "        W1_start = 0\n",
      "        W1_end = self.hiddenLayerSize * self.inputLayerSize\n",
      "        self.W1 = np.reshape(params[W1_start:W1_end], (self.inputLayerSize , self.hiddenLayerSize))\n",
      "        W2_end = W1_end + self.hiddenLayerSize*self.outputLayerSize\n",
      "        self.W2 = np.reshape(params[W1_end:W2_end], (self.hiddenLayerSize, self.outputLayerSize))\n",
      "        \n",
      "    def computeGradients(self, X, y):\n",
      "        dJdW1, dJdW2 = self.costFunctionPrime(X, y)\n",
      "        return np.concatenate((dJdW1.ravel(), dJdW2.ravel()))"
     ],
     "language": "python",
     "metadata": {},
     "outputs": [],
     "prompt_number": 41
    },
    {
     "cell_type": "code",
     "collapsed": false,
     "input": [
      "NN = Neural_Network()"
     ],
     "language": "python",
     "metadata": {},
     "outputs": [],
     "prompt_number": 42
    },
    {
     "cell_type": "code",
     "collapsed": false,
     "input": [
      "X = np.array([[3,5],[5,1],[10, 2]])"
     ],
     "language": "python",
     "metadata": {},
     "outputs": [],
     "prompt_number": 43
    },
    {
     "cell_type": "code",
     "collapsed": false,
     "input": [
      "y = [[.75],[.82],[.93]] # score on test"
     ],
     "language": "python",
     "metadata": {},
     "outputs": [],
     "prompt_number": 44
    },
    {
     "cell_type": "code",
     "collapsed": false,
     "input": [
      "yHat = NN.forward(X)"
     ],
     "language": "python",
     "metadata": {},
     "outputs": [],
     "prompt_number": 45
    },
    {
     "cell_type": "code",
     "collapsed": false,
     "input": [
      "yHat"
     ],
     "language": "python",
     "metadata": {},
     "outputs": [
      {
       "metadata": {},
       "output_type": "pyout",
       "prompt_number": 46,
       "text": [
        "array([[ 0.50556038],\n",
        "       [ 0.53828045],\n",
        "       [ 0.5073238 ]])"
       ]
      }
     ],
     "prompt_number": 46
    },
    {
     "cell_type": "code",
     "collapsed": false,
     "input": [
      "y"
     ],
     "language": "python",
     "metadata": {},
     "outputs": [
      {
       "metadata": {},
       "output_type": "pyout",
       "prompt_number": 47,
       "text": [
        "[[0.75], [0.82], [0.93]]"
       ]
      }
     ],
     "prompt_number": 47
    },
    {
     "cell_type": "markdown",
     "metadata": {},
     "source": [
      "with forward prop we don't get a great close to y, so lets include backprop to check cost and move towards lower error"
     ]
    },
    {
     "cell_type": "code",
     "collapsed": false,
     "input": [
      "NN = Neural_Network()"
     ],
     "language": "python",
     "metadata": {},
     "outputs": [],
     "prompt_number": 48
    },
    {
     "cell_type": "code",
     "collapsed": false,
     "input": [
      "cost1 = NN.costFunction(X,y)"
     ],
     "language": "python",
     "metadata": {},
     "outputs": [],
     "prompt_number": 49
    },
    {
     "cell_type": "code",
     "collapsed": false,
     "input": [
      "dJdW1, dJdW2 = NN.costFunctionPrime(X,y)"
     ],
     "language": "python",
     "metadata": {},
     "outputs": [],
     "prompt_number": 50
    },
    {
     "cell_type": "code",
     "collapsed": false,
     "input": [
      "dJdW1"
     ],
     "language": "python",
     "metadata": {},
     "outputs": [
      {
       "metadata": {},
       "output_type": "pyout",
       "prompt_number": 51,
       "text": [
        "array([[ 0.34632319, -0.2361856 , -0.00808408],\n",
        "       [ 0.12545706, -0.18976583, -0.00161691]])"
       ]
      }
     ],
     "prompt_number": 51
    },
    {
     "cell_type": "code",
     "collapsed": false,
     "input": [
      "dJdW2"
     ],
     "language": "python",
     "metadata": {},
     "outputs": [
      {
       "metadata": {},
       "output_type": "pyout",
       "prompt_number": 52,
       "text": [
        "array([[-0.12309026],\n",
        "       [-0.04267847],\n",
        "       [-0.00822626]])"
       ]
      }
     ],
     "prompt_number": 52
    },
    {
     "cell_type": "markdown",
     "metadata": {},
     "source": [
      "If we move this way by adding a scalar times our derivative to our weights, our cost will increase, and if we do the opposite, subtract our gradient from our weights, we will move downhill and reduce our cost. This simple step downhill is the core of gradient descent and a key part of how even very sophisticated learning algorithms are trained."
     ]
    },
    {
     "cell_type": "code",
     "collapsed": false,
     "input": [
      "scalar = 3\n",
      "NN.W1 = NN.W1 + scalar*dJdW1\n",
      "NN.W2 = NN.W2 + scalar*dJdW2\n",
      "cost2 = NN.costFunction(X,y)"
     ],
     "language": "python",
     "metadata": {},
     "outputs": [],
     "prompt_number": 53
    },
    {
     "cell_type": "code",
     "collapsed": false,
     "input": [
      "print cost1, cost2"
     ],
     "language": "python",
     "metadata": {},
     "outputs": [
      {
       "output_type": "stream",
       "stream": "stdout",
       "text": [
        "0.252686585407 0.68877272966\n"
       ]
      }
     ],
     "prompt_number": 54
    },
    {
     "cell_type": "code",
     "collapsed": false,
     "input": [
      "dJdW1, dJdW2 = NN.costFunctionPrime(X,y)\n",
      "NN.W1 = NN.W1 - scalar*dJdW1\n",
      "NN.W2 = NN.W2 - scalar*dJdW2\n",
      "cost3 = NN.costFunction(X, y)"
     ],
     "language": "python",
     "metadata": {},
     "outputs": [],
     "prompt_number": 55
    },
    {
     "cell_type": "code",
     "collapsed": false,
     "input": [
      "print cost2, cost3"
     ],
     "language": "python",
     "metadata": {},
     "outputs": [
      {
       "output_type": "stream",
       "stream": "stdout",
       "text": [
        "0.68877272966 0.435868934659\n"
       ]
      }
     ],
     "prompt_number": 56
    },
    {
     "cell_type": "code",
     "collapsed": false,
     "input": [
      "%pylab inline"
     ],
     "language": "python",
     "metadata": {},
     "outputs": [
      {
       "output_type": "stream",
       "stream": "stdout",
       "text": [
        "Populating the interactive namespace from numpy and matplotlib\n"
       ]
      }
     ],
     "prompt_number": 57
    },
    {
     "cell_type": "code",
     "collapsed": false,
     "input": [
      "from scipy import optimize"
     ],
     "language": "python",
     "metadata": {},
     "outputs": [],
     "prompt_number": 58
    },
    {
     "cell_type": "code",
     "collapsed": false,
     "input": [
      "class trainer(object):\n",
      "    def __init__(self, N):\n",
      "        #Make Local reference to network:\n",
      "        self.N = N\n",
      "        \n",
      "    def callbackF(self, params):\n",
      "        self.N.setParams(params)\n",
      "        self.J.append(self.N.costFunction(self.X, self.y))   \n",
      "        \n",
      "    def costFunctionWrapper(self, params, X, y):\n",
      "        self.N.setParams(params)\n",
      "        cost = self.N.costFunction(X, y)\n",
      "        grad = self.N.computeGradients(X,y)\n",
      "        \n",
      "        return cost, grad\n",
      "        \n",
      "    def train(self, X, y):\n",
      "        #Make an internal variable for the callback function:\n",
      "        self.X = X\n",
      "        self.y = y\n",
      "\n",
      "        #Make empty list to store costs:\n",
      "        self.J = []\n",
      "        \n",
      "        params0 = self.N.getParams()\n",
      "\n",
      "        options = {'maxiter': 200, 'disp' : True}\n",
      "        _res = optimize.minimize(self.costFunctionWrapper, params0, jac=True, method='BFGS', \\\n",
      "                                 args=(X, y), options=options, callback=self.callbackF)\n",
      "\n",
      "        self.N.setParams(_res.x)\n",
      "        self.optimizationResults = _res\n",
      "    "
     ],
     "language": "python",
     "metadata": {},
     "outputs": [],
     "prompt_number": 59
    },
    {
     "cell_type": "code",
     "collapsed": false,
     "input": [
      "NN = Neural_Network()"
     ],
     "language": "python",
     "metadata": {},
     "outputs": [],
     "prompt_number": 60
    },
    {
     "cell_type": "code",
     "collapsed": false,
     "input": [
      "T = trainer(NN)"
     ],
     "language": "python",
     "metadata": {},
     "outputs": [],
     "prompt_number": 61
    },
    {
     "cell_type": "code",
     "collapsed": false,
     "input": [
      "T.train(X,y)"
     ],
     "language": "python",
     "metadata": {},
     "outputs": [
      {
       "output_type": "stream",
       "stream": "stdout",
       "text": [
        "Optimization terminated successfully.\n",
        "         Current function value: 0.001227\n",
        "         Iterations: 50\n",
        "         Function evaluations: 77\n",
        "         Gradient evaluations: 74\n"
       ]
      }
     ],
     "prompt_number": 62
    },
    {
     "cell_type": "code",
     "collapsed": false,
     "input": [
      "plot(T.J)\n",
      "grid(1)\n",
      "xlabel('Iterations')\n",
      "ylabel('Cost')"
     ],
     "language": "python",
     "metadata": {},
     "outputs": [
      {
       "metadata": {},
       "output_type": "pyout",
       "prompt_number": 63,
       "text": [
        "<matplotlib.text.Text at 0x108aace50>"
       ]
      },
      {
       "metadata": {},
       "output_type": "display_data",
       "png": "[encoded data removed]",
       "text": [
        "<matplotlib.figure.Figure at 0x108a4df50>"
       ]
      }
     ],
     "prompt_number": 63
    },
    {
     "cell_type": "code",
     "collapsed": false,
     "input": [
      "NN.costFunctionPrime(X,y)"
     ],
     "language": "python",
     "metadata": {},
     "outputs": [
      {
       "metadata": {},
       "output_type": "pyout",
       "prompt_number": 64,
       "text": [
        "(array([[  7.95836278e-06,   3.25342536e-06,   4.73403729e-06],\n",
        "        [  2.51647214e-06,   5.15767683e-06,   1.21846054e-06]]),\n",
        " array([[  1.57219499e-06],\n",
        "        [  5.71737045e-06],\n",
        "        [  2.21881043e-06]]))"
       ]
      }
     ],
     "prompt_number": 64
    },
    {
     "cell_type": "code",
     "collapsed": false,
     "input": [
      "NN.forward(X)"
     ],
     "language": "python",
     "metadata": {},
     "outputs": [
      {
       "metadata": {},
       "output_type": "pyout",
       "prompt_number": 65,
       "text": [
        "array([[ 0.75003551],\n",
        "       [ 0.85352279],\n",
        "       [ 0.89352422]])"
       ]
      }
     ],
     "prompt_number": 65
    },
    {
     "cell_type": "code",
     "collapsed": false,
     "input": [
      "y"
     ],
     "language": "python",
     "metadata": {},
     "outputs": [
      {
       "metadata": {},
       "output_type": "pyout",
       "prompt_number": 66,
       "text": [
        "[[0.75], [0.82], [0.93]]"
       ]
      }
     ],
     "prompt_number": 66
    },
    {
     "cell_type": "code",
     "collapsed": false,
     "input": [
      "#Test network for various combinations of sleep/study:\n",
      "hoursSleep = linspace(0, 10, 100)\n",
      "hoursStudy = linspace(0, 5, 100)\n",
      "\n",
      "#Normalize data (same way training data way normalized)\n",
      "hoursSleepNorm = hoursSleep/10.\n",
      "hoursStudyNorm = hoursStudy/5.\n",
      "\n",
      "#Create 2-d versions of input for plotting\n",
      "a, b  = meshgrid(hoursSleepNorm, hoursStudyNorm)\n",
      "\n",
      "#Join into a single input matrix:\n",
      "allInputs = np.zeros((a.size, 2))\n",
      "allInputs[:, 0] = a.ravel()\n",
      "allInputs[:, 1] = b.ravel()"
     ],
     "language": "python",
     "metadata": {},
     "outputs": [],
     "prompt_number": 67
    },
    {
     "cell_type": "code",
     "collapsed": false,
     "input": [
      "allOutputs = NN.forward(allInputs)"
     ],
     "language": "python",
     "metadata": {},
     "outputs": [],
     "prompt_number": 68
    },
    {
     "cell_type": "code",
     "collapsed": false,
     "input": [
      "#Contour Plot:\n",
      "yy = np.dot(hoursStudy.reshape(100,1), np.ones((1,100)))\n",
      "xx = np.dot(hoursSleep.reshape(100,1), np.ones((1,100))).T\n",
      "\n",
      "CS = contour(xx,yy,100*allOutputs.reshape(100, 100))\n",
      "clabel(CS, inline=1, fontsize=10)\n",
      "xlabel('Hours Sleep')\n",
      "ylabel('Hours Study')"
     ],
     "language": "python",
     "metadata": {},
     "outputs": [
      {
       "metadata": {},
       "output_type": "pyout",
       "prompt_number": 69,
       "text": [
        "<matplotlib.text.Text at 0x108a4de10>"
       ]
      },
      {
       "output_type": "stream",
       "stream": "stderr",
       "text": [
        "//anaconda/lib/python2.7/site-packages/matplotlib/text.py:52: UnicodeWarning: Unicode equal comparison failed to convert both arguments to Unicode - interpreting them as being unequal\n",
        "  if rotation in ('horizontal', None):\n",
        "//anaconda/lib/python2.7/site-packages/matplotlib/text.py:54: UnicodeWarning: Unicode equal comparison failed to convert both arguments to Unicode - interpreting them as being unequal\n",
        "  elif rotation == 'vertical':\n"
       ]
      },
      {
       "metadata": {},
       "output_type": "display_data",
       "png": "[encoded data removed]",
       "text": [
        "<matplotlib.figure.Figure at 0x108c11b10>"
       ]
      }
     ],
     "prompt_number": 69
    },
    {
     "cell_type": "code",
     "collapsed": false,
     "input": [
      "#3D plot:\n",
      "\n",
      "##Uncomment to plot out-of-notebook (you'll be able to rotate)\n",
      "#%matplotlib qt\n",
      "\n",
      "from mpl_toolkits.mplot3d import Axes3D\n",
      "fig = plt.figure()\n",
      "ax = fig.gca(projection='3d')\n",
      "\n",
      "surf = ax.plot_surface(xx, yy, 100*allOutputs.reshape(100, 100), \\\n",
      "                       cmap=cm.jet)\n",
      "\n",
      "ax.set_xlabel('Hours Sleep')\n",
      "ax.set_ylabel('Hours Study')\n",
      "ax.set_zlabel('Test Score')"
     ],
     "language": "python",
     "metadata": {},
     "outputs": [
      {
       "metadata": {},
       "output_type": "pyout",
       "prompt_number": 70,
       "text": [
        "<matplotlib.text.Text at 0x10afd4350>"
       ]
      },
      {
       "metadata": {},
       "output_type": "display_data",
       "png": "[encoded data removed]",
       "text": [
        "<matplotlib.figure.Figure at 0x108cc4410>"
       ]
      }
     ],
     "prompt_number": 70
    },
    {
     "cell_type": "code",
     "collapsed": false,
     "input": [],
     "language": "python",
     "metadata": {},
     "outputs": []
    }
   ],
   "metadata": {}
  }
 ]
}
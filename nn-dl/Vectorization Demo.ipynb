{
 "metadata": {
  "name": "",
  "signature": "sha256:6eef34a80ba8bf3268c440d52c2ddb0cb0ae05a81856b1169bcf3bd805572129"
 },
 "nbformat": 3,
 "nbformat_minor": 0,
 "worksheets": [
  {
   "cells": [
    {
     "cell_type": "code",
     "collapsed": false,
     "input": [
      "import numpy as np\n",
      "a = np.array([1,2,3,4])\n",
      "print(a)"
     ],
     "language": "python",
     "metadata": {},
     "outputs": [
      {
       "output_type": "stream",
       "stream": "stdout",
       "text": [
        "[1 2 3 4]\n"
       ]
      }
     ],
     "prompt_number": 1
    },
    {
     "cell_type": "code",
     "collapsed": false,
     "input": [
      "import time\n",
      "\n",
      "a = np.random.rand(1000000)\n",
      "b = np.random.rand(1000000)\n",
      "\n",
      "tic = time.time()\n",
      "c = np.dot(a,b)\n",
      "toc = time.time()\n",
      "\n",
      "print(c)\n",
      "print(\"Vectorized version:\" + str(1000*(toc-tic)) + \"ms\")\n",
      "\n",
      "c = 0\n",
      "tic = time.time()\n",
      "for i in range(1000000):\n",
      "  c += a[i]*b[i]\n",
      "toc = time.time()\n",
      "\n",
      "print(c)\n",
      "print(\"for loop:\"+ str(1000*(toc-tic)) + \"ms\")\n"
     ],
     "language": "python",
     "metadata": {},
     "outputs": [
      {
       "output_type": "stream",
       "stream": "stdout",
       "text": [
        "249886.802205\n",
        "Vectorized version:1.18112564087ms\n",
        "249886.802205"
       ]
      },
      {
       "output_type": "stream",
       "stream": "stdout",
       "text": [
        "\n",
        "for loop:529.140949249ms\n"
       ]
      }
     ],
     "prompt_number": 6
    },
    {
     "cell_type": "code",
     "collapsed": false,
     "input": [],
     "language": "python",
     "metadata": {},
     "outputs": [],
     "prompt_number": 3
    },
    {
     "cell_type": "code",
     "collapsed": false,
     "input": [],
     "language": "python",
     "metadata": {},
     "outputs": []
    }
   ],
   "metadata": {}
  }
 ]
}
{
 "metadata": {
  "name": "",
  "signature": "sha256:4e78603207da0b1ed92974cf84e4892b9f6460f778b82193ec3cda7c0961f631"
 },
 "nbformat": 3,
 "nbformat_minor": 0,
 "worksheets": [
  {
   "cells": [
    {
     "cell_type": "code",
     "collapsed": false,
     "input": [
      "import numpy as np\n",
      "\n",
      "A = np.array([\n",
      "    [56, 0, 4.4, 68],\n",
      "    [1.2, 104, 52, 8.0],\n",
      "    [1.8, 135, 99, 0.9],\n",
      "])\n",
      "print(A)"
     ],
     "language": "python",
     "metadata": {},
     "outputs": [
      {
       "output_type": "stream",
       "stream": "stdout",
       "text": [
        "[[  56.     0.     4.4   68. ]\n",
        " [   1.2  104.    52.     8. ]\n",
        " [   1.8  135.    99.     0.9]]\n"
       ]
      }
     ],
     "prompt_number": 2
    },
    {
     "cell_type": "markdown",
     "metadata": {},
     "source": [
      "axis=0 represents summing along the vertical\n",
      "axis=1 would be along the horizontal"
     ]
    },
    {
     "cell_type": "code",
     "collapsed": false,
     "input": [
      "cal = A.sum(axis=0)\n",
      "print(cal)"
     ],
     "language": "python",
     "metadata": {},
     "outputs": [
      {
       "output_type": "stream",
       "stream": "stdout",
       "text": [
        "[  59.   239.   155.4   76.9]\n"
       ]
      }
     ],
     "prompt_number": 3
    },
    {
     "cell_type": "code",
     "collapsed": false,
     "input": [
      "percentage = 100*A/cal.reshape(1,4)\n",
      "print percentage "
     ],
     "language": "python",
     "metadata": {},
     "outputs": [
      {
       "output_type": "stream",
       "stream": "stdout",
       "text": [
        "[[ 94.91525424   0.           2.83140283  88.42652796]\n",
        " [  2.03389831  43.51464435  33.46203346  10.40312094]\n",
        " [  3.05084746  56.48535565  63.70656371   1.17035111]]\n"
       ]
      }
     ],
     "prompt_number": 8
    },
    {
     "cell_type": "markdown",
     "metadata": {},
     "source": [
      "so if A was a 3x4 matrix and cal is a 1x4, how did we divide a 3x4 with a 1x4?"
     ]
    },
    {
     "cell_type": "markdown",
     "metadata": {},
     "source": [
      "### Basic rule of broadcasting:"
     ]
    },
    {
     "cell_type": "markdown",
     "metadata": {},
     "source": [
      "* if you take a (m,n) and perform operation (+/-*) on a:\n",
      "  * (1,n) it'll convert the (1,n) to a (m,n).\n",
      "  * (m,1) it'll convert the (m,1) to a (m,n).\n",
      "* if you take a (m,1) and perform operation (+/-*) on a real number it converts the real number m times to convert to (m,1)\n",
      "\n",
      "example:[1,2,3] + 100\n",
      "example: [[1,2,3],[4,5,6]] + [1, 2, 3]"
     ]
    },
    {
     "cell_type": "code",
     "collapsed": false,
     "input": [],
     "language": "python",
     "metadata": {},
     "outputs": []
    }
   ],
   "metadata": {}
  }
 ]
}